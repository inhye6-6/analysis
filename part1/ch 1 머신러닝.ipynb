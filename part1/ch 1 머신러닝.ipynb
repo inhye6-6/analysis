{
 "cells": [
  {
   "cell_type": "markdown",
   "metadata": {},
   "source": [
    "### 머신러닝 시스템 종류"
   ]
  },
  {
   "cell_type": "code",
   "execution_count": null,
   "metadata": {},
   "outputs": [],
   "source": []
  },
  {
   "cell_type": "code",
   "execution_count": null,
   "metadata": {},
   "outputs": [],
   "source": []
  },
  {
   "cell_type": "markdown",
   "metadata": {},
   "source": [
    "### 머신러닝 주요 과제"
   ]
  },
  {
   "cell_type": "code",
   "execution_count": null,
   "metadata": {},
   "outputs": [],
   "source": []
  },
  {
   "cell_type": "code",
   "execution_count": null,
   "metadata": {},
   "outputs": [],
   "source": []
  },
  {
   "cell_type": "markdown",
   "metadata": {},
   "source": [
    "### 연습문제 "
   ]
  },
  {
   "cell_type": "markdown",
   "metadata": {},
   "source": [
    "1 . 머신러닝의 정의\n",
    "\n",
    ": "
   ]
  },
  {
   "cell_type": "markdown",
   "metadata": {},
   "source": [
    "2 . 머신러닝을 사용할 수 있는 문제유형\n",
    "\n",
    ": 명확한 해결책이 없는 문제, 변화하는 환경에 적응하는 시스템, 인사이트 제공"
   ]
  },
  {
   "cell_type": "markdown",
   "metadata": {},
   "source": [
    "3 . 레이블훈련 세트란?\n",
    "\n",
    ": 레이블(0,1/정답)을 가지고 있는 훈련 세트"
   ]
  },
  {
   "cell_type": "markdown",
   "metadata": {},
   "source": [
    "4 . 지도 학습 종류\n",
    "\n",
    ": regression, classification"
   ]
  },
  {
   "cell_type": "markdown",
   "metadata": {},
   "source": [
    "5 . 비지도 학습 종류\n",
    "\n",
    ": 군집, 차원 축소, 연관 규칙, 시각화"
   ]
  },
  {
   "cell_type": "markdown",
   "metadata": {},
   "source": [
    "6 . 사전 정보가 없을 때 사용할 수 있는 머신 러닝 알고리즘 \n",
    "\n",
    ": 강화 학습"
   ]
  },
  {
   "cell_type": "markdown",
   "metadata": {},
   "source": [
    "7 . 고객을 여러 그룹으로 분할 할 때 사용하는 알고리즘 \n",
    "\n",
    ": 군집알고리즘(비지도), 분류(지도)"
   ]
  },
  {
   "cell_type": "markdown",
   "metadata": {},
   "source": [
    "8 . 스팸 감지는 지도? 비지도?\n",
    "\n",
    ": 지도 학습"
   ]
  },
  {
   "cell_type": "markdown",
   "metadata": {},
   "source": [
    "9 . 온라인 학습 시스템 설명\n",
    "\n",
    ": batch 학습과 달리 점진적인 학습 가능, 많은 양의 데이터 훈련 가능"
   ]
  },
  {
   "cell_type": "markdown",
   "metadata": {},
   "source": [
    "10 . 외부 메모리 학습 \n",
    "\n",
    ": 대용량의 데이터 사용 가능 , 데이터를 미니배치로 나눈뒤 온라인 학습 사용"
   ]
  },
  {
   "cell_type": "markdown",
   "metadata": {},
   "source": [
    "11 . 유사도 측정이 필수인 알고리즘\n",
    "\n",
    ": 인스턴스 기반 학습 ( 새로운 샘플이 주어지면 가장 비슷한 것을 찾아 학습)"
   ]
  },
  {
   "cell_type": "markdown",
   "metadata": {},
   "source": [
    "12 . 모델 파라미터, 학습 파라미터 차이 \n",
    "\n",
    ": \n",
    "모델은 하나 이상의 파라미터를 사용해서 새로운 샘플이 주어지면 무엇을 예측할지 결정함. <br>\n",
    "학습 알고리즘은 모델이 새로운 샘플에 잘 일반화되도록 파라미터의 최적 값을 찾음 <br>\n",
    "파라미터는 학습을 통해서 모델에서 만들어진 파라미터, 하이퍼파라미터는 사용자가 세팅하는 파라미터"
   ]
  },
  {
   "cell_type": "markdown",
   "metadata": {},
   "source": [
    "13 . 모델 기반 알고리즘이 찾는 것\n",
    "\n",
    ": 새로운 샘플에 잘 일반화되기 위한 모델 파라미터 값을 찾음. <br>\n",
    "min (train dataset에서의 loss와 regularization)하도록 훈련시킴.<br>"
   ]
  },
  {
   "cell_type": "markdown",
   "metadata": {},
   "source": [
    "14 . 머신러닝의 주요 도전 과제\n",
    "\n",
    ": 데이터 부족, 낮은 데이터 품질, 대표성없는 데이터, 무의미한 특성, 과소적합된 모델, 과대적합된 모델"
   ]
  },
  {
   "cell_type": "markdown",
   "metadata": {},
   "source": [
    "15 . 과적합 설명\n",
    "\n",
    ": 과적합(과대적합) 해결방안? 데이터 수집, 모델 단순화, 파라미터 or 피쳐 수 감소, regulazation"
   ]
  },
  {
   "cell_type": "markdown",
   "metadata": {},
   "source": [
    "16 . 테스트 세트 설명\n",
    "\n",
    ": 새로운 데이터를 모델에 넣었을 때 생기는 제너럴리제이션 에러를 추정하기 위해 사용\n"
   ]
  },
  {
   "cell_type": "markdown",
   "metadata": {},
   "source": [
    "17 . 검정 세트 목적\n",
    "\n",
    ": 모델 비교, 하이퍼파라미터 튜닝"
   ]
  },
  {
   "cell_type": "markdown",
   "metadata": {},
   "source": [
    "18 . 테스트 세트로 튜닝시 생기는 문제점\n",
    "\n",
    ": 파라미터가 테스트 세트에 과적합될 수 있음"
   ]
  },
  {
   "cell_type": "markdown",
   "metadata": {},
   "source": [
    "19 . 교차 검증 설명\n",
    "\n",
    ": 트레인과 벨리데이션 셋을 구분하지 않고 모델 비교 가능"
   ]
  }
 ],
 "metadata": {
  "kernelspec": {
   "display_name": "Python 3",
   "language": "python",
   "name": "python3"
  },
  "language_info": {
   "codemirror_mode": {
    "name": "ipython",
    "version": 3
   },
   "file_extension": ".py",
   "mimetype": "text/x-python",
   "name": "python",
   "nbconvert_exporter": "python",
   "pygments_lexer": "ipython3",
   "version": "3.8.5"
  }
 },
 "nbformat": 4,
 "nbformat_minor": 4
}
